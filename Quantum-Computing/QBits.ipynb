{
 "cells": [
  {
   "cell_type": "markdown",
   "metadata": {
    "tags": [
     "remove_cell"
    ]
   },
   "source": [
    "# QFT Simulation and real quantum hardware"
   ]
  },
  {
   "cell_type": "markdown",
   "metadata": {
    "jp-MarkdownHeadingCollapsed": true,
    "tags": []
   },
   "source": [
    "In this notebook, you will run both the QFT and its inverse against real and simulated quantum hardware. You will be using some of your answers from HW10.2. The code around QFT, inverse QFT, executing simulations, and jobs has been provided for you. Your job will be to figure out how to manipulate the `QuantumCircuit` object to construct the desired circuits."
   ]
  },
  {
   "cell_type": "markdown",
   "metadata": {},
   "source": [
    "**Note**: Qiskit's least significant bit has the lowest index (0), thus the circuit will be mirrored through the horizontal. See section 5 from the class notebook for more information."
   ]
  },
  {
   "cell_type": "markdown",
   "metadata": {
    "tags": []
   },
   "source": [
    "## Problem 0: Setup Account\n",
    "Before we do any real programming, we need to setup your [IBMQ](https://quantum-computing.ibm.com/) account. Accounts are free. Once you have created your account, access your API token, which can be found in your account settings. Copy this (and ONLY this) to a file 'token.txt' in the same directory as this notebook. The following code will run successfully when this has been complete."
   ]
  },
  {
   "cell_type": "code",
   "execution_count": 2,
   "metadata": {},
   "outputs": [],
   "source": [
    "### START DO NOT CHANGE ###\n",
    "import os.path\n",
    "assert os.path.exists('token.txt')\n",
    "### END DO NOT CHANGE ###"
   ]
  },
  {
   "cell_type": "markdown",
   "metadata": {},
   "source": [
    "The following is a bunch of helper code, do **not** change!"
   ]
  },
  {
   "cell_type": "code",
   "execution_count": 3,
   "metadata": {},
   "outputs": [],
   "source": [
    "### START DO NOT CHANGE ###\n",
    "import numpy as np\n",
    "from numpy import pi\n",
    "from qiskit import QuantumCircuit, transpile, assemble, Aer, IBMQ\n",
    "from qiskit.providers.ibmq import least_busy\n",
    "from qiskit.tools.monitor import job_monitor\n",
    "from qiskit.visualization import plot_histogram, plot_bloch_multivector\n",
    "# Common variables\n",
    "nqubits = 3\n",
    "shots = 2048\n",
    "    \n",
    "def swap_registers(circuit, n):\n",
    "    for qubit in range(n//2):\n",
    "        circuit.swap(qubit, n-qubit-1)\n",
    "    return circuit\n",
    "\n",
    "def qft_rotations(circuit, n):\n",
    "    \"\"\"Performs qft on the first n qubits in circuit (without swaps)\"\"\"\n",
    "    if n == 0:\n",
    "        return circuit\n",
    "    n -= 1\n",
    "    circuit.h(n)\n",
    "    for qubit in range(n):\n",
    "        circuit.cp(pi/2**(n-qubit), qubit, n)\n",
    "    # At the end of our function, we call the same function again on\n",
    "    # the next qubits \n",
    "    # NOTE: we reduced n by one earlier in the function\n",
    "    qft_rotations(circuit, n)\n",
    "\n",
    "def qft(circuit, n):\n",
    "    \"\"\"QFT on the first n qubits in circuit\"\"\"\n",
    "    qft_rotations(circuit, n)\n",
    "    swap_registers(circuit, n)\n",
    "    return circuit.decompose() # .decompose() allows us to see the individual gates\n",
    "\n",
    "def inverse_qft(circuit, n):\n",
    "    \"\"\"Does the inverse QFT on the first n qubits in circuit\"\"\"\n",
    "    # First we create a QFT circuit of the correct size:\n",
    "    qft_circ = qft(QuantumCircuit(n), n)\n",
    "    # Then we take the inverse of this circuit\n",
    "    invqft_circ = qft_circ.inverse()\n",
    "    # And add it to the first n qubits in our existing circuit\n",
    "    circuit.append(invqft_circ, circuit.qubits[:n])\n",
    "    return circuit.decompose() # .decompose() allows us to see the individual gates\n",
    "\n",
    "def load_IBMQ():\n",
    "    with open('token.txt') as f:\n",
    "        token = f.read()\n",
    "        IBMQ.save_account(token, overwrite=True)\n",
    "    IBMQ.load_account()\n",
    "\n",
    "    provider = IBMQ.get_provider(hub='ibm-q')\n",
    "    backend = least_busy(provider.backends(filters=lambda x: x.configuration().n_qubits >= nqubits \n",
    "                                       and not x.configuration().simulator \n",
    "                                       and x.status().operational==True))\n",
    "    \n",
    "    return provider, backend\n",
    "\n",
    "\n",
    "def simulate(circuit):\n",
    "    qc = circuit.copy()\n",
    "    qobj = assemble(qc, shots=shots)\n",
    "    job = sim.run(qobj)\n",
    "    job_monitor(job)\n",
    "    return job.result().get_counts()\n",
    "\n",
    "\n",
    "def run_job(circuit):\n",
    "    qc = circuit.copy()\n",
    "    transpiled_qc = transpile(qc, backend, optimization_level=3)\n",
    "    job = backend.run(transpiled_qc, shots=shots)\n",
    "    job_monitor(job)\n",
    "\n",
    "    return job.result().get_counts()\n",
    "\n",
    "provider, backend = load_IBMQ()\n",
    "sim = Aer.get_backend(\"aer_simulator\")\n",
    "\n",
    "### END DO NOT CHANGE ###"
   ]
  },
  {
   "cell_type": "markdown",
   "metadata": {},
   "source": [
    "# 1: Apply the QFT to 3-qubit state $|2 \\rangle$"
   ]
  },
  {
   "cell_type": "markdown",
   "metadata": {},
   "source": [
    "Your task here is to generate the circuit that constructs the computationl basis state $| 2 \\rangle$. \n",
    "\n",
    "### Determine what $|2 \\rangle$ is a separable 3-qubit state."
   ]
  },
  {
   "cell_type": "markdown",
   "metadata": {},
   "source": [
    "\n",
    "|010> is the |2> state using 3 qubits.\n",
    " "
   ]
  },
  {
   "cell_type": "markdown",
   "metadata": {},
   "source": [
    "### Fill in the `prepare_state_2` method below by adding the required gate(s) to the `circuit` object."
   ]
  },
  {
   "cell_type": "code",
   "execution_count": 4,
   "metadata": {},
   "outputs": [],
   "source": [
    "def prepare_state_2(circuit):\n",
    "# YOUR CODE START\n",
    "    circuit.prepare_state(2)\n",
    "    return circuit #!!! UNCOMMENT THIS LINE WHEN YOU HAVE WRITTEN THIS METHOD !!!\n",
    "\n",
    "# YOUR CODE END"
   ]
  },
  {
   "cell_type": "markdown",
   "metadata": {},
   "source": [
    "Once this method has been correctly created, we will construct the circuit for the full state preparation and QFT"
   ]
  },
  {
   "cell_type": "code",
   "execution_count": 5,
   "metadata": {},
   "outputs": [],
   "source": [
    "### BEGIN DO NOT CHANGE ###\n",
    "qc = QuantumCircuit(3)\n",
    "qc = prepare_state_2(qc)\n",
    "qc = qft(qc, 3)\n",
    "qc.measure_all()\n",
    "### END DO NOT CHANGE ###"
   ]
  },
  {
   "cell_type": "markdown",
   "metadata": {},
   "source": [
    "### Run this circuit against both the Aer simulator and on the actual quantum system"
   ]
  },
  {
   "cell_type": "code",
   "execution_count": 6,
   "metadata": {},
   "outputs": [
    {
     "name": "stdout",
     "output_type": "stream",
     "text": [
      "Job Status: job has successfully run\n",
      "Job Status: job has successfully run\n"
     ]
    }
   ],
   "source": [
    "# BEGIN your code\n",
    "\n",
    "counts_simulated = simulate(qc)\n",
    "counts_real = run_job(qc)\n",
    "\n",
    "# END your code"
   ]
  },
  {
   "cell_type": "markdown",
   "metadata": {},
   "source": [
    "### Plot your results"
   ]
  },
  {
   "cell_type": "code",
   "execution_count": 7,
   "metadata": {},
   "outputs": [
    {
     "data": {
      "image/png": "[encoded data removed]",
      "text/plain": [
       "<Figure size 700x500 with 1 Axes>"
      ]
     },
     "execution_count": 7,
     "metadata": {},
     "output_type": "execute_result"
    }
   ],
   "source": [
    "# BEGIN your code\n",
    "\n",
    "plot_histogram([counts_simulated, counts_real], legend=['Simulated', 'Real'], color=['red', 'orange'])\n",
    "\n",
    "# END your code"
   ]
  },
  {
   "cell_type": "markdown",
   "metadata": {},
   "source": [
    "### Discuss how this histogram relates to your answer from 2b"
   ]
  },
  {
   "cell_type": "markdown",
   "metadata": {},
   "source": [
    "\n",
    "\n",
    "The QFT successfully was applied as every Qubit is now in some differing rotation. \n",
    " \n"
   ]
  },
  {
   "cell_type": "markdown",
   "metadata": {},
   "source": [
    "## 2: Apply the inverse QFT to state $| \\tilde{7} \\rangle$"
   ]
  },
  {
   "cell_type": "markdown",
   "metadata": {},
   "source": [
    "In the class exercise, we covered preparing and running the inverse QFT on the state $| \\tilde{5} \\rangle$. Your task is to run the inverse QFT on $| \\widetilde{7} \\rangle$.\n",
    "\n",
    "### Using your answer from 10.2d, fill out the method `prepare_fstate_7` below."
   ]
  },
  {
   "cell_type": "code",
   "execution_count": 8,
   "metadata": {},
   "outputs": [],
   "source": [
    "def prepare_fstate_7(circuit):\n",
    "# YOUR CODE START\n",
    "    circuit.prepare_state(7)\n",
    "    circuit = qft(circuit,3)\n",
    "    \n",
    "# YOUR CODE END\n",
    "    return circuit "
   ]
  },
  {
   "cell_type": "markdown",
   "metadata": {},
   "source": [
    "If your method is correct, the following code will print out the correct circuit for $| \\tilde{7} \\rangle$."
   ]
  },
  {
   "cell_type": "code",
   "execution_count": 9,
   "metadata": {},
   "outputs": [
    {
     "data": {
      "image/png": "[encoded data removed]",
      "text/plain": [
       "<Figure size 1541.66x284.278 with 1 Axes>"
      ]
     },
     "execution_count": 9,
     "metadata": {},
     "output_type": "execute_result"
    }
   ],
   "source": [
    "### BEGIN DO NOT CHANGE ###\n",
    "qc = QuantumCircuit(3)\n",
    "qc = prepare_fstate_7(qc)\n",
    "qc.draw('mpl')\n",
    "### END DO NOT CHANGE ###"
   ]
  },
  {
   "cell_type": "markdown",
   "metadata": {},
   "source": [
    "### Run this circuit against both the Aer simulator and on the actual quantum system"
   ]
  },
  {
   "cell_type": "code",
   "execution_count": 10,
   "metadata": {},
   "outputs": [
    {
     "name": "stdout",
     "output_type": "stream",
     "text": [
      "Job Status: job has successfully run\n",
      "Job Status: job has successfully run\n"
     ]
    }
   ],
   "source": [
    "### BEGIN DO NOT CHANGE ###\n",
    "qc = inverse_qft(qc, nqubits)\n",
    "qc.measure_all()\n",
    "### END DO NOT CHANGE ###\n",
    "\n",
    "# BEGIN your code\n",
    "\n",
    "counts_simulated = simulate(qc)\n",
    "counts_real = run_job(qc)\n",
    "\n",
    "# END your code"
   ]
  },
  {
   "cell_type": "markdown",
   "metadata": {
    "tags": []
   },
   "source": [
    "### Plot your results"
   ]
  },
  {
   "cell_type": "code",
   "execution_count": 11,
   "metadata": {},
   "outputs": [
    {
     "data": {
      "image/png": "[encoded data removed]",
      "text/plain": [
       "<Figure size 700x500 with 1 Axes>"
      ]
     },
     "execution_count": 11,
     "metadata": {},
     "output_type": "execute_result"
    }
   ],
   "source": [
    "# BEGIN your code\n",
    "\n",
    "plot_histogram([counts_simulated, counts_real], legend=['Simulated', 'Real'], color=['red', 'orange'])\n",
    "\n",
    "# END your code"
   ]
  },
  {
   "cell_type": "markdown",
   "metadata": {},
   "source": [
    "## What state has the highest probability and why? Is this 100%? Why or why not?"
   ]
  },
  {
   "cell_type": "markdown",
   "metadata": {},
   "source": [
    "\n",
    "\n",
    "The highest probability is |111> due to the QFT having run and been inversed. This is what the Qubits will be measured as due to the transference to from the computational basis to the fourier basis back to the computaitonal basis. The number 7 has been returned.\n"
   ]
  },
  {
   "cell_type": "markdown",
   "metadata": {},
   "source": [
    "## References<a id=\"references\"></a>"
   ]
  },
  {
   "cell_type": "markdown",
   "metadata": {},
   "source": [
    "1. M. Nielsen and I. Chuang, Quantum Computation and Quantum Information, Cambridge Series on Information and the Natural Sciences (Cambridge University Press, Cambridge, 2000).\n",
    "2. [QFT Qiskit tutorital](https://qiskit.org/textbook/ch-algorithms/quantum-fourier-transform.html)"
   ]
  },
  {
   "cell_type": "code",
   "execution_count": 12,
   "metadata": {},
   "outputs": [
    {
     "data": {
      "text/html": [
       "<h3>Version Information</h3><table><tr><th>Qiskit Software</th><th>Version</th></tr><tr><td><code>qiskit-terra</code></td><td>0.22.3</td></tr><tr><td><code>qiskit-aer</code></td><td>0.11.2</td></tr><tr><td><code>qiskit-ibmq-provider</code></td><td>0.19.2</td></tr><tr><td><code>qiskit</code></td><td>0.39.4</td></tr><tr><th>System information</th></tr><tr><td>Python version</td><td>3.10.8</td></tr><tr><td>Python compiler</td><td>GCC 10.4.0</td></tr><tr><td>Python build</td><td>main, Nov 22 2022 08:26:04</td></tr><tr><td>OS</td><td>Linux</td></tr><tr><td>CPUs</td><td>32</td></tr><tr><td>Memory (Gb)</td><td>62.90220642089844</td></tr><tr><td colspan='2'>Fri Apr 28 22:08:13 2023 UTC</td></tr></table>"
      ],
      "text/plain": [
       "<IPython.core.display.HTML object>"
      ]
     },
     "metadata": {},
     "output_type": "display_data"
    }
   ],
   "source": [
    "import qiskit.tools.jupyter\n",
    "%qiskit_version_table"
   ]
  }
 ],
 "metadata": {
  "kernelspec": {
   "display_name": "Python 3 (ipykernel)",
   "language": "python",
   "name": "python3"
  },
  "language_info": {
   "codemirror_mode": {
    "name": "ipython",
    "version": 3
   },
   "file_extension": ".py",
   "mimetype": "text/x-python",
   "name": "python",
   "nbconvert_exporter": "python",
   "pygments_lexer": "ipython3",
   "version": "3.10.8"
  },
  "widgets": {
   "application/vnd.jupyter.widget-state+json": {
    "state": {
     "4fd47ced489b4853ba6026cb79ddefc8": {
      "buffers": [
       {
        "data": "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",
        "encoding": "base64",
        "path": [
         "value"
        ]
       }
      ],
      "model_module": "@jupyter-widgets/controls",
      "model_module_version": "1.5.0",
      "model_name": "ImageModel",
      "state": {
       "_dom_classes": [],
       "_model_module": "@jupyter-widgets/controls",
       "_model_module_version": "1.5.0",
       "_model_name": "ImageModel",
       "_view_count": null,
       "_view_module": "@jupyter-widgets/controls",
       "_view_module_version": "1.5.0",
       "_view_name": "ImageView",
       "format": "png",
       "height": "",
       "layout": "IPY_MODEL_f50c3bad79fc4dcea09b2ac7fcc7ae86",
       "value": {},
       "width": ""
      }
     },
     "5303ce14bda94a4fa6d3bd8d968fd88e": {
      "model_module": "@jupyter-widgets/base",
      "model_module_version": "1.2.0",
      "model_name": "LayoutModel",
      "state": {
       "_model_module": "@jupyter-widgets/base",
       "_model_module_version": "1.2.0",
       "_model_name": "LayoutModel",
       "_view_count": null,
       "_view_module": "@jupyter-widgets/base",
       "_view_module_version": "1.2.0",
       "_view_name": "LayoutView",
       "align_content": null,
       "align_items": null,
       "align_self": null,
       "border": null,
       "bottom": null,
       "display": null,
       "flex": null,
       "flex_flow": null,
       "grid_area": null,
       "grid_auto_columns": null,
       "grid_auto_flow": null,
       "grid_auto_rows": null,
       "grid_column": null,
       "grid_gap": null,
       "grid_row": null,
       "grid_template_areas": null,
       "grid_template_columns": null,
       "grid_template_rows": null,
       "height": null,
       "justify_content": null,
       "justify_items": null,
       "left": null,
       "margin": null,
       "max_height": null,
       "max_width": null,
       "min_height": null,
       "min_width": null,
       "object_fit": null,
       "object_position": null,
       "order": null,
       "overflow": null,
       "overflow_x": null,
       "overflow_y": null,
       "padding": null,
       "right": null,
       "top": null,
       "visibility": null,
       "width": null
      }
     },
     "69415be121604172a807ba54f8950d2c": {
      "model_module": "@jupyter-widgets/base",
      "model_module_version": "1.2.0",
      "model_name": "LayoutModel",
      "state": {
       "_model_module": "@jupyter-widgets/base",
       "_model_module_version": "1.2.0",
       "_model_name": "LayoutModel",
       "_view_count": null,
       "_view_module": "@jupyter-widgets/base",
       "_view_module_version": "1.2.0",
       "_view_name": "LayoutView",
       "align_content": null,
       "align_items": null,
       "align_self": null,
       "border": null,
       "bottom": null,
       "display": null,
       "flex": null,
       "flex_flow": null,
       "grid_area": null,
       "grid_auto_columns": null,
       "grid_auto_flow": null,
       "grid_auto_rows": null,
       "grid_column": null,
       "grid_gap": null,
       "grid_row": null,
       "grid_template_areas": null,
       "grid_template_columns": null,
       "grid_template_rows": null,
       "height": null,
       "justify_content": null,
       "justify_items": null,
       "left": null,
       "margin": null,
       "max_height": null,
       "max_width": null,
       "min_height": null,
       "min_width": null,
       "object_fit": null,
       "object_position": null,
       "order": null,
       "overflow": null,
       "overflow_x": null,
       "overflow_y": null,
       "padding": null,
       "right": null,
       "top": null,
       "visibility": null,
       "width": null
      }
     },
     "69bb4ea7eb934781ae0443455b05fd83": {
      "model_module": "@jupyter-widgets/base",
      "model_module_version": "1.2.0",
      "model_name": "LayoutModel",
      "state": {
       "_model_module": "@jupyter-widgets/base",
       "_model_module_version": "1.2.0",
       "_model_name": "LayoutModel",
       "_view_count": null,
       "_view_module": "@jupyter-widgets/base",
       "_view_module_version": "1.2.0",
       "_view_name": "LayoutView",
       "align_content": null,
       "align_items": null,
       "align_self": null,
       "border": null,
       "bottom": null,
       "display": null,
       "flex": null,
       "flex_flow": null,
       "grid_area": null,
       "grid_auto_columns": null,
       "grid_auto_flow": null,
       "grid_auto_rows": null,
       "grid_column": null,
       "grid_gap": null,
       "grid_row": null,
       "grid_template_areas": null,
       "grid_template_columns": null,
       "grid_template_rows": null,
       "height": null,
       "justify_content": null,
       "justify_items": null,
       "left": null,
       "margin": null,
       "max_height": null,
       "max_width": null,
       "min_height": null,
       "min_width": null,
       "object_fit": null,
       "object_position": null,
       "order": null,
       "overflow": null,
       "overflow_x": null,
       "overflow_y": null,
       "padding": null,
       "right": null,
       "top": null,
       "visibility": null,
       "width": null
      }
     },
     "79bcb116617c4b47910fef4ffc9d3cfd": {
      "model_module": "@jupyter-widgets/controls",
      "model_module_version": "1.5.0",
      "model_name": "SliderStyleModel",
      "state": {
       "_model_module": "@jupyter-widgets/controls",
       "_model_module_version": "1.5.0",
       "_model_name": "SliderStyleModel",
       "_view_count": null,
       "_view_module": "@jupyter-widgets/base",
       "_view_module_version": "1.2.0",
       "_view_name": "StyleView",
       "description_width": "",
       "handle_color": null
      }
     },
     "7e0dcaa24b66419fa288f739e8e335ff": {
      "model_module": "@jupyter-widgets/controls",
      "model_module_version": "1.5.0",
      "model_name": "IntSliderModel",
      "state": {
       "_dom_classes": [],
       "_model_module": "@jupyter-widgets/controls",
       "_model_module_version": "1.5.0",
       "_model_name": "IntSliderModel",
       "_view_count": null,
       "_view_module": "@jupyter-widgets/controls",
       "_view_module_version": "1.5.0",
       "_view_name": "IntSliderView",
       "continuous_update": true,
       "description": "",
       "description_tooltip": null,
       "disabled": false,
       "layout": "IPY_MODEL_69415be121604172a807ba54f8950d2c",
       "max": 8,
       "min": 1,
       "orientation": "horizontal",
       "readout": true,
       "readout_format": "d",
       "step": 1,
       "style": "IPY_MODEL_79bcb116617c4b47910fef4ffc9d3cfd",
       "value": 4
      }
     },
     "82ebabe44bff4dd18c0fb94fb2229f5b": {
      "model_module": "@jupyter-widgets/controls",
      "model_module_version": "1.5.0",
      "model_name": "SliderStyleModel",
      "state": {
       "_model_module": "@jupyter-widgets/controls",
       "_model_module_version": "1.5.0",
       "_model_name": "SliderStyleModel",
       "_view_count": null,
       "_view_module": "@jupyter-widgets/base",
       "_view_module_version": "1.2.0",
       "_view_name": "StyleView",
       "description_width": "",
       "handle_color": null
      }
     },
     "a31a90c7257640c29979cd97290f1d3f": {
      "model_module": "@jupyter-widgets/base",
      "model_module_version": "1.2.0",
      "model_name": "LayoutModel",
      "state": {
       "_model_module": "@jupyter-widgets/base",
       "_model_module_version": "1.2.0",
       "_model_name": "LayoutModel",
       "_view_count": null,
       "_view_module": "@jupyter-widgets/base",
       "_view_module_version": "1.2.0",
       "_view_name": "LayoutView",
       "align_content": null,
       "align_items": null,
       "align_self": null,
       "border": null,
       "bottom": null,
       "display": null,
       "flex": null,
       "flex_flow": null,
       "grid_area": null,
       "grid_auto_columns": null,
       "grid_auto_flow": null,
       "grid_auto_rows": null,
       "grid_column": null,
       "grid_gap": null,
       "grid_row": null,
       "grid_template_areas": null,
       "grid_template_columns": null,
       "grid_template_rows": null,
       "height": null,
       "justify_content": null,
       "justify_items": null,
       "left": null,
       "margin": null,
       "max_height": null,
       "max_width": null,
       "min_height": null,
       "min_width": null,
       "object_fit": null,
       "object_position": null,
       "order": null,
       "overflow": null,
       "overflow_x": null,
       "overflow_y": null,
       "padding": null,
       "right": null,
       "top": null,
       "visibility": null,
       "width": null
      }
     },
     "c661cd0f46614dfcbd58714fa1ed42b0": {
      "model_module": "@jupyter-widgets/base",
      "model_module_version": "1.2.0",
      "model_name": "LayoutModel",
      "state": {
       "_model_module": "@jupyter-widgets/base",
       "_model_module_version": "1.2.0",
       "_model_name": "LayoutModel",
       "_view_count": null,
       "_view_module": "@jupyter-widgets/base",
       "_view_module_version": "1.2.0",
       "_view_name": "LayoutView",
       "align_content": null,
       "align_items": null,
       "align_self": null,
       "border": null,
       "bottom": null,
       "display": null,
       "flex": null,
       "flex_flow": null,
       "grid_area": null,
       "grid_auto_columns": null,
       "grid_auto_flow": null,
       "grid_auto_rows": null,
       "grid_column": null,
       "grid_gap": null,
       "grid_row": null,
       "grid_template_areas": null,
       "grid_template_columns": null,
       "grid_template_rows": null,
       "height": null,
       "justify_content": null,
       "justify_items": null,
       "left": null,
       "margin": null,
       "max_height": null,
       "max_width": null,
       "min_height": null,
       "min_width": null,
       "object_fit": null,
       "object_position": null,
       "order": null,
       "overflow": null,
       "overflow_x": null,
       "overflow_y": null,
       "padding": null,
       "right": null,
       "top": null,
       "visibility": null,
       "width": null
      }
     },
     "c724fc703dfc434aa012189f53972321": {
      "buffers": [
       {
        "data": "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",
        "encoding": "base64",
        "path": [
         "value"
        ]
       }
      ],
      "model_module": "@jupyter-widgets/controls",
      "model_module_version": "1.5.0",
      "model_name": "ImageModel",
      "state": {
       "_dom_classes": [],
       "_model_module": "@jupyter-widgets/controls",
       "_model_module_version": "1.5.0",
       "_model_name": "ImageModel",
       "_view_count": null,
       "_view_module": "@jupyter-widgets/controls",
       "_view_module_version": "1.5.0",
       "_view_name": "ImageView",
       "format": "png",
       "height": "",
       "layout": "IPY_MODEL_5303ce14bda94a4fa6d3bd8d968fd88e",
       "value": {},
       "width": ""
      }
     },
     "ce30d21977994913a3923af2c401f4a8": {
      "model_module": "@jupyter-widgets/controls",
      "model_module_version": "1.5.0",
      "model_name": "IntSliderModel",
      "state": {
       "_dom_classes": [],
       "_model_module": "@jupyter-widgets/controls",
       "_model_module_version": "1.5.0",
       "_model_name": "IntSliderModel",
       "_view_count": null,
       "_view_module": "@jupyter-widgets/controls",
       "_view_module_version": "1.5.0",
       "_view_name": "IntSliderView",
       "continuous_update": true,
       "description": "",
       "description_tooltip": null,
       "disabled": false,
       "layout": "IPY_MODEL_a31a90c7257640c29979cd97290f1d3f",
       "max": 8,
       "min": 1,
       "orientation": "horizontal",
       "readout": true,
       "readout_format": "d",
       "step": 1,
       "style": "IPY_MODEL_ddb2442024714fd18c60080f267b8e17",
       "value": 4
      }
     },
     "ddb2442024714fd18c60080f267b8e17": {
      "model_module": "@jupyter-widgets/controls",
      "model_module_version": "1.5.0",
      "model_name": "SliderStyleModel",
      "state": {
       "_model_module": "@jupyter-widgets/controls",
       "_model_module_version": "1.5.0",
       "_model_name": "SliderStyleModel",
       "_view_count": null,
       "_view_module": "@jupyter-widgets/base",
       "_view_module_version": "1.2.0",
       "_view_name": "StyleView",
       "description_width": "",
       "handle_color": null
      }
     },
     "e31f90a64cbd477b9a8fec4a87be0976": {
      "model_module": "@jupyter-widgets/controls",
      "model_module_version": "1.5.0",
      "model_name": "IntSliderModel",
      "state": {
       "_dom_classes": [],
       "_model_module": "@jupyter-widgets/controls",
       "_model_module_version": "1.5.0",
       "_model_name": "IntSliderModel",
       "_view_count": null,
       "_view_module": "@jupyter-widgets/controls",
       "_view_module_version": "1.5.0",
       "_view_name": "IntSliderView",
       "continuous_update": true,
       "description": "",
       "description_tooltip": null,
       "disabled": false,
       "layout": "IPY_MODEL_69bb4ea7eb934781ae0443455b05fd83",
       "max": 8,
       "min": 1,
       "orientation": "horizontal",
       "readout": true,
       "readout_format": "d",
       "step": 1,
       "style": "IPY_MODEL_82ebabe44bff4dd18c0fb94fb2229f5b",
       "value": 4
      }
     },
     "f50c3bad79fc4dcea09b2ac7fcc7ae86": {
      "model_module": "@jupyter-widgets/base",
      "model_module_version": "1.2.0",
      "model_name": "LayoutModel",
      "state": {
       "_model_module": "@jupyter-widgets/base",
       "_model_module_version": "1.2.0",
       "_model_name": "LayoutModel",
       "_view_count": null,
       "_view_module": "@jupyter-widgets/base",
       "_view_module_version": "1.2.0",
       "_view_name": "LayoutView",
       "align_content": null,
       "align_items": null,
       "align_self": null,
       "border": null,
       "bottom": null,
       "display": null,
       "flex": null,
       "flex_flow": null,
       "grid_area": null,
       "grid_auto_columns": null,
       "grid_auto_flow": null,
       "grid_auto_rows": null,
       "grid_column": null,
       "grid_gap": null,
       "grid_row": null,
       "grid_template_areas": null,
       "grid_template_columns": null,
       "grid_template_rows": null,
       "height": null,
       "justify_content": null,
       "justify_items": null,
       "left": null,
       "margin": null,
       "max_height": null,
       "max_width": null,
       "min_height": null,
       "min_width": null,
       "object_fit": null,
       "object_position": null,
       "order": null,
       "overflow": null,
       "overflow_x": null,
       "overflow_y": null,
       "padding": null,
       "right": null,
       "top": null,
       "visibility": null,
       "width": null
      }
     },
     "f887efdea1c34983955ed1abb15f4ea7": {
      "buffers": [
       {
        "data": "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",
        "encoding": "base64",
        "path": [
         "value"
        ]
       }
      ],
      "model_module": "@jupyter-widgets/controls",
      "model_module_version": "1.5.0",
      "model_name": "ImageModel",
      "state": {
       "_dom_classes": [],
       "_model_module": "@jupyter-widgets/controls",
       "_model_module_version": "1.5.0",
       "_model_name": "ImageModel",
       "_view_count": null,
       "_view_module": "@jupyter-widgets/controls",
       "_view_module_version": "1.5.0",
       "_view_name": "ImageView",
       "format": "png",
       "height": "",
       "layout": "IPY_MODEL_c661cd0f46614dfcbd58714fa1ed42b0",
       "value": {},
       "width": ""
      }
     }
    },
    "version_major": 2,
    "version_minor": 0
   }
  }
 },
 "nbformat": 4,
 "nbformat_minor": 4
}
